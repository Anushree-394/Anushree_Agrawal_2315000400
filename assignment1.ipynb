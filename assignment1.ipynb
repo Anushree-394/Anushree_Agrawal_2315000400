{
 "cells": [
  {
   "cell_type": "markdown",
   "id": "876e3daa",
   "metadata": {},
   "source": [
    "Task 1"
   ]
  },
  {
   "cell_type": "code",
   "execution_count": 1,
   "id": "12fc80c9",
   "metadata": {},
   "outputs": [
    {
     "name": "stdout",
     "output_type": "stream",
     "text": [
      "exception caught: Invalid mark:108\n"
     ]
    }
   ],
   "source": [
    "class Invalid(Exception):\n",
    "    def __init__(self, message=\"it should be between 0 and 100\"):\n",
    "        self.message=message\n",
    "        super().__init__(self.message)\n",
    "\n",
    "def check_marks(mark):\n",
    "    if mark<0 or mark>100:\n",
    "        raise Invalid(f\"Invalid mark:{mark}\")\n",
    "    else:\n",
    "        print (f\"Valid mark:{mark}\")\n",
    "try:\n",
    "    check_marks(108)\n",
    "except Invalid as e:\n",
    "    print(\"exception caught:\",e)\n",
    "\n"
   ]
  },
  {
   "cell_type": "markdown",
   "id": "ec50fe7b",
   "metadata": {},
   "source": [
    "TASK 2"
   ]
  },
  {
   "cell_type": "code",
   "execution_count": 2,
   "id": "ad3228e6",
   "metadata": {},
   "outputs": [],
   "source": [
    "import numpy as np\n",
    "import pandas as pd\n"
   ]
  },
  {
   "cell_type": "code",
   "execution_count": 3,
   "id": "b388672d",
   "metadata": {},
   "outputs": [],
   "source": [
    "array=np.array([\n",
    "    [85, 90, 78, 92],\n",
    "    [88, 76, 85, 80],\n",
    "    [90, 91, 89, 87],\n",
    "    [75, 78, 72, 70],\n",
    "    [88, 85, 84, 86]\n",
    "])\n",
    "df=pd.DataFrame(array,columns=['Math','Science','Eng','Computer'])\n",
    "df.to_csv(\"student.csv\",index=\"false\")"
   ]
  },
  {
   "cell_type": "code",
   "execution_count": 4,
   "id": "321dd3c4",
   "metadata": {},
   "outputs": [
    {
     "name": "stdout",
     "output_type": "stream",
     "text": [
      "Read from csv:\n",
      "   Unnamed: 0  Math  Science  Eng  Computer\n",
      "0           0    85       90   78        92\n",
      "1           1    88       76   85        80\n",
      "2           2    90       91   89        87\n",
      "3           3    75       78   72        70\n",
      "4           4    88       85   84        86\n"
     ]
    }
   ],
   "source": [
    "df_read=pd.read_csv(\"student.csv\")\n",
    "print(\"Read from csv:\")\n",
    "print(df_read)"
   ]
  },
  {
   "cell_type": "code",
   "execution_count": null,
   "id": "2e0d7fb7",
   "metadata": {},
   "outputs": [],
   "source": []
  }
 ],
 "metadata": {
  "kernelspec": {
   "display_name": "base",
   "language": "python",
   "name": "python3"
  },
  "language_info": {
   "codemirror_mode": {
    "name": "ipython",
    "version": 3
   },
   "file_extension": ".py",
   "mimetype": "text/x-python",
   "name": "python",
   "nbconvert_exporter": "python",
   "pygments_lexer": "ipython3",
   "version": "3.13.5"
  }
 },
 "nbformat": 4,
 "nbformat_minor": 5
}
